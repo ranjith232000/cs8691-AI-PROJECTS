{
  "nbformat": 4,
  "nbformat_minor": 0,
  "metadata": {
    "colab": {
      "name": "text anlytic.ipynb",
      "provenance": [],
      "include_colab_link": true
    },
    "kernelspec": {
      "name": "python3",
      "display_name": "Python 3"
    }
  },
  "cells": [
    {
      "cell_type": "markdown",
      "metadata": {
        "id": "view-in-github",
        "colab_type": "text"
      },
      "source": [
        "<a href=\"https://colab.research.google.com/github/ranjithcseb-cs8691/cs8691-AI-PROJECTS/blob/master/text_anlytic.ipynb\" target=\"_parent\"><img src=\"https://colab.research.google.com/assets/colab-badge.svg\" alt=\"Open In Colab\"/></a>"
      ]
    },
    {
      "cell_type": "code",
      "metadata": {
        "id": "Wy_uzPh2siH5",
        "colab_type": "code",
        "colab": {
          "base_uri": "https://localhost:8080/",
          "height": 68
        },
        "outputId": "8f325196-5773-40c5-a224-2ad327d5c8ae"
      },
      "source": [
        ">>> import nltk\n",
        ">>> nltk.download('wordnet')\n"
      ],
      "execution_count": 1,
      "outputs": [
        {
          "output_type": "stream",
          "text": [
            "[nltk_data] Downloading package wordnet to /root/nltk_data...\n",
            "[nltk_data]   Unzipping corpora/wordnet.zip.\n"
          ],
          "name": "stdout"
        },
        {
          "output_type": "execute_result",
          "data": {
            "text/plain": [
              "True"
            ]
          },
          "metadata": {
            "tags": []
          },
          "execution_count": 1
        }
      ]
    },
    {
      "cell_type": "code",
      "metadata": {
        "id": "1kDOto0As98Y",
        "colab_type": "code",
        "colab": {
          "base_uri": "https://localhost:8080/",
          "height": 71
        },
        "outputId": "b1e84581-07d6-4372-819b-c4d88b56d3ef"
      },
      "source": [
        "from nltk.corpus import wordnet\n",
        "synonyms = []\n",
        "antonyms = []\n",
        "\n",
        "for syn in wordnet.synsets(\"attack\"):\n",
        "        for l in syn.lemmas():\n",
        "            synonyms.append(l.name())\n",
        "            if l.antonyms():\n",
        "                 antonyms.append(l.antonyms()[0].name())\n",
        "print(set(synonyms))\n",
        "print(set(antonyms))"
      ],
      "execution_count": 2,
      "outputs": [
        {
          "output_type": "stream",
          "text": [
            "{'flak', 'approach', 'tone-beginning', 'onrush', 'flack', 'plan_of_attack', 'attempt', 'round', 'onset', 'assail', 'aggress', 'snipe', 'blast', 'fire', 'set_on', 'attack', 'assault', 'lash_out', 'onslaught'}\n",
            "{'defend'}\n"
          ],
          "name": "stdout"
        }
      ]
    },
    {
      "cell_type": "code",
      "metadata": {
        "id": "s43Wl1G2t0-H",
        "colab_type": "code",
        "colab": {
          "base_uri": "https://localhost:8080/",
          "height": 71
        },
        "outputId": "cdbb6ecd-6872-4fc5-fbe3-8f8f7ab3f044"
      },
      "source": [
        "from nltk.corpus import wordnet\n",
        "synonyms = []\n",
        "antonyms = []\n",
        "\n",
        "for syn in wordnet.synsets(\"defend\"):\n",
        "        for l in syn.lemmas():\n",
        "            synonyms.append(l.name())\n",
        "            if l.antonyms():\n",
        "                 antonyms.append(l.antonyms()[0].name())\n",
        "print(set(synonyms))\n",
        "print(set(antonyms))"
      ],
      "execution_count": 3,
      "outputs": [
        {
          "output_type": "stream",
          "text": [
            "{'oppose', 'maintain', 'fend_for', 'support', 'fight', 'champion', 'guard', 'defend', 'hold', 'fight_back', 'represent', 'fight_down'}\n",
            "{'attack', 'prosecute'}\n"
          ],
          "name": "stdout"
        }
      ]
    }
  ]
}